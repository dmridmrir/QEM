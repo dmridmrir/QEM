{
 "cells": [
  {
   "cell_type": "code",
   "execution_count": 9,
   "metadata": {},
   "outputs": [],
   "source": [
    "import cirq\n",
    "from mitiq import MeasurementResult, Observable, PauliString, raw,zne\n",
    "from mitiq.observable.observable import Observable\n",
    "from mitiq.observable.pauli import PauliString"
   ]
  },
  {
   "cell_type": "markdown",
   "metadata": {},
   "source": [
    "# problem setup"
   ]
  },
  {
   "cell_type": "code",
   "execution_count": 2,
   "metadata": {},
   "outputs": [
    {
     "name": "stdout",
     "output_type": "stream",
     "text": [
      "0: ──────────────────@──────────────────@───@───T──────@─────────M('q0')───\n",
      "                     │                  │   │          │\n",
      "1: ───────@──────────┼───────@───T──────┼───X───T^-1───X─────────M('q1')───\n",
      "          │          │       │          │\n",
      "2: ───H───X───T^-1───X───T───X───T^-1───X───T───H──────M('q2')─────────────\n"
     ]
    }
   ],
   "source": [
    "circuit = cirq.Circuit()\n",
    "qubits = cirq.LineQubit.range(3)\n",
    "circuit.append([\n",
    "    cirq.H(qubits[2]),\n",
    "    cirq.CX(qubits[1], qubits[2]),\n",
    "    cirq.T(qubits[2])**-1,\n",
    "    cirq.CX(qubits[0], qubits[2]),\n",
    "    cirq.T(qubits[2]),\n",
    "    cirq.CX(qubits[1], qubits[2]),\n",
    "    cirq.T(qubits[2])**-1,\n",
    "    cirq.CX(qubits[0], qubits[2]),\n",
    "    cirq.T(qubits[1]),\n",
    "    cirq.T(qubits[2]),\n",
    "    cirq.CX(qubits[0], qubits[1]),\n",
    "    cirq.H(qubits[2]),\n",
    "    cirq.T(qubits[0]),\n",
    "    cirq.T(qubits[1])**-1,\n",
    "    cirq.CX(qubits[0], qubits[1]),\n",
    "])\n",
    "circuit.append([cirq.measure(qubit, key=f'q{index}') for index, qubit in enumerate(qubits)])\n",
    "\n",
    "observable = Observable(PauliString(\"ZII\"),PauliString(\"IZI\"),PauliString(\"IIZ\"))\n",
    "\n",
    "print(circuit)"
   ]
  },
  {
   "cell_type": "markdown",
   "metadata": {},
   "source": [
    "# make executer"
   ]
  },
  {
   "cell_type": "code",
   "execution_count": 3,
   "metadata": {},
   "outputs": [],
   "source": [
    "from functools import partial\n",
    "import numpy as np\n",
    "from cirq.experiments.single_qubit_readout_calibration_test import (\n",
    "    NoisySingleQubitReadoutSampler,\n",
    ")\n",
    "from mitiq import MeasurementResult\n",
    "\n",
    "def noisy_readout_executor(circuit: cirq.Circuit,noise_level : 0.02, p0, p1, shots=8192) -> MeasurementResult:\n",
    "    measurement = circuit[-1]\n",
    "    circuit = circuit[:-1]\n",
    "\n",
    "    circuit = circuit.with_noise(cirq.depolarize(noise_level))\n",
    "    circuit.append(measurement)\n",
    "\n",
    "    simulator = NoisySingleQubitReadoutSampler(p0=p0, p1=p1)\n",
    "    result = simulator.run(circuit, repetitions=shots)\n",
    "    bitstrings = np.column_stack([result.measurements[f'q{i}'] for i in range(len(qubits))])\n",
    "    return MeasurementResult(bitstrings, qubit_indices=range(len(qubits)))\n"
   ]
  },
  {
   "cell_type": "markdown",
   "metadata": {},
   "source": [
    "# evaluate expectation value"
   ]
  },
  {
   "cell_type": "code",
   "execution_count": 5,
   "metadata": {},
   "outputs": [
    {
     "name": "stdout",
     "output_type": "stream",
     "text": [
      "ideal : (3+0j)\n",
      "error without mitigation : (1.95+0j)\n"
     ]
    }
   ],
   "source": [
    "from mitiq.raw import execute as raw_execute\n",
    "\n",
    "prob_flip = 0.05\n",
    "noisy_executor = partial(noisy_readout_executor,noise_level = 0.02,p0=prob_flip,p1=prob_flip)\n",
    "noisy_value = raw_execute(circuit,noisy_executor,observable)\n",
    "\n",
    "ideal_executor = partial(noisy_readout_executor,noise_level = 0, p0=0,p1=0)\n",
    "ideal_value = raw_execute(circuit,ideal_executor,observable)\n",
    "\n",
    "\n",
    "print(f\"ideal : {ideal_value:.3}\")\n",
    "print(f\"error without mitigation : {noisy_value:.3}\")"
   ]
  },
  {
   "cell_type": "markdown",
   "metadata": {},
   "source": [
    "# apply REM"
   ]
  },
  {
   "cell_type": "code",
   "execution_count": 7,
   "metadata": {},
   "outputs": [
    {
     "name": "stdout",
     "output_type": "stream",
     "text": [
      "Error with mitigation (REM): (2.14+0j)\n"
     ]
    }
   ],
   "source": [
    "from mitiq.rem import generate_inverse_confusion_matrix\n",
    "from mitiq import rem\n",
    "\n",
    "inverse_confusion_matrix = generate_inverse_confusion_matrix(3,prob_flip,prob_flip)\n",
    "\n",
    "mitigated_result = rem.execute_with_rem(circuit,noisy_executor,observable,inverse_confusion_matrix=inverse_confusion_matrix)\n",
    "\n",
    "\n",
    "print(f\"Error with mitigation (REM): {mitigated_result:.3}\")"
   ]
  },
  {
   "cell_type": "markdown",
   "metadata": {},
   "source": [
    "# apply ZNE"
   ]
  },
  {
   "cell_type": "code",
   "execution_count": null,
   "metadata": {},
   "outputs": [],
   "source": [
    "from mitiq.zne.inference import LinearFactory\n",
    "from mitiq.zne.inference import RichardsonFactory\n",
    "from mitiq.zne.scaling import fold_global\n",
    "\n",
    "linear_fact = LinearFactory(scale_factors=[1.0,2.0,3.0])\n",
    "Ricahrdson_fact = RichardsonFactory(scale_factors=[1.0,2.0,3.0])\n",
    "\n",
    "linear_result = zne.execute_with_zne(circuit,noisy_readout_executor,factory=linear_fact,scale_noise=fold_global)\n",
    "Richardson_result = zne.execute_with_zne(circuit,noisy_readout_executor,factory=Ricahrdson_fact,scale_noise=fold_global)\n",
    "\n",
    "print(f\"linear_fact: {linear_result :.{3}}\")\n",
    "print(f\"Richardson_fact : {Richardson_result :.{3}}\")\n"
   ]
  }
 ],
 "metadata": {
  "kernelspec": {
   "display_name": "quantum",
   "language": "python",
   "name": "python3"
  },
  "language_info": {
   "codemirror_mode": {
    "name": "ipython",
    "version": 3
   },
   "file_extension": ".py",
   "mimetype": "text/x-python",
   "name": "python",
   "nbconvert_exporter": "python",
   "pygments_lexer": "ipython3",
   "version": "3.12.3"
  }
 },
 "nbformat": 4,
 "nbformat_minor": 2
}
