{
 "cells": [
  {
   "cell_type": "code",
   "execution_count": 2,
   "metadata": {},
   "outputs": [],
   "source": [
    "import cirq\n",
    "from cirq import LineQubit,Circuit, X, measure_each\n",
    "from mitiq.observable.observable import Observable\n",
    "from mitiq.observable.pauli import PauliString"
   ]
  },
  {
   "cell_type": "markdown",
   "metadata": {},
   "source": [
    "# problem setup"
   ]
  },
  {
   "cell_type": "code",
   "execution_count": 5,
   "metadata": {},
   "outputs": [
    {
     "name": "stdout",
     "output_type": "stream",
     "text": [
      "0: ───X───\n",
      "\n",
      "1: ───X───\n"
     ]
    }
   ],
   "source": [
    "qreg = [LineQubit(i) for i in range(2)]\n",
    "circuit = Circuit(X.on_each(*qreg))\n",
    "observable = Observable(PauliString(\"ZI\"),PauliString(\"IZ\"))\n",
    "\n",
    "print(circuit)"
   ]
  },
  {
   "cell_type": "markdown",
   "metadata": {},
   "source": [
    "# make executer"
   ]
  },
  {
   "cell_type": "code",
   "execution_count": 9,
   "metadata": {},
   "outputs": [],
   "source": [
    "from functools import partial\n",
    "import numpy as np\n",
    "from cirq.experiments.single_qubit_readout_calibration_test import (\n",
    "    NoisySingleQubitReadoutSampler,\n",
    ")\n",
    "from mitiq import MeasurementResult\n",
    "\n",
    "def noisy_readout_executor(circuit,p0,p1,shots=8192)->MeasurementResult:\n",
    "    simulator = NoisySingleQubitReadoutSampler(p0,p1)\n",
    "    result = simulator.run(circuit,repetitions=shots)\n",
    "    bitstrings = np.column_stack(list(result.measurements.values()))\n",
    "    return MeasurementResult(bitstrings,qubit_indices=(0,1))"
   ]
  },
  {
   "cell_type": "markdown",
   "metadata": {},
   "source": [
    "# evaluate expectation value"
   ]
  },
  {
   "cell_type": "code",
   "execution_count": 11,
   "metadata": {},
   "outputs": [
    {
     "name": "stdout",
     "output_type": "stream",
     "text": [
      "error without mitigation : 0.505\n"
     ]
    }
   ],
   "source": [
    "from mitiq.raw import execute as raw_execute\n",
    "\n",
    "prob_flip = 0.25\n",
    "noisy_executor = partial(noisy_readout_executor,p0=prob_flip,p1=prob_flip)\n",
    "noisy_value = raw_execute(circuit,noisy_executor,observable)\n",
    "\n",
    "ideal_executor = partial(noisy_readout_executor,p0=0,p1=0)\n",
    "ideal_value = raw_execute(circuit,ideal_executor,observable)\n",
    "\n",
    "error = abs((ideal_value-noisy_value) / ideal_value)\n",
    "\n",
    "print(f\"error without mitigation : {error:.3}\")"
   ]
  },
  {
   "cell_type": "markdown",
   "metadata": {},
   "source": [
    "# apply postselection"
   ]
  },
  {
   "cell_type": "code",
   "execution_count": 12,
   "metadata": {},
   "outputs": [
    {
     "name": "stdout",
     "output_type": "stream",
     "text": [
      "Before postselection: {'01': 1531, '11': 4573, '10': 1587, '00': 501}\n",
      "After postselection: {'11': 4573, '00': 501}\n",
      "Discarded measurements: 5074 (100% of total)\n",
      "Error with mitigation (PS): 0.197\n"
     ]
    }
   ],
   "source": [
    "from mitiq.rem import post_select\n",
    "\n",
    "#this method can only use if structure of problem has sysmetry\n",
    "\n",
    "circuit_with_measurements = circuit.copy()\n",
    "circuit_with_measurements.append(measure_each(*qreg))\n",
    "noisy_measurements = noisy_executor(circuit_with_measurements)\n",
    "print(f\"Before postselection: {noisy_measurements.get_counts()}\")\n",
    "\n",
    "postselected_measurements = post_select(noisy_measurements,lambda bits: bits[0] == bits[1])\n",
    "print(f\"After postselection: {postselected_measurements.get_counts()}\")\n",
    "\n",
    "total_measurements = len(noisy_measurements.result)\n",
    "discarded_measurements = total_measurements = len(postselected_measurements.result)\n",
    "print(f\"Discarded measurements: {discarded_measurements} ({discarded_measurements/total_measurements:.0%} of total)\")\n",
    "\n",
    "mitigated_result = observable._expectation_from_measurements([postselected_measurements])\n",
    "error = abs((ideal_value-mitigated_result) / ideal_value)\n",
    "print(f\"Error with mitigation (PS): {error:.3}\")"
   ]
  },
  {
   "cell_type": "markdown",
   "metadata": {},
   "source": [
    "# apply REM"
   ]
  },
  {
   "cell_type": "code",
   "execution_count": 14,
   "metadata": {},
   "outputs": [
    {
     "name": "stdout",
     "output_type": "stream",
     "text": [
      "Error with mitigation (REM): 0.0133\n"
     ]
    }
   ],
   "source": [
    "from mitiq.rem import generate_inverse_confusion_matrix\n",
    "from mitiq import rem\n",
    "\n",
    "inverse_confusion_matrix = generate_inverse_confusion_matrix(2,prob_flip,prob_flip)\n",
    "\n",
    "mitigated_result = rem.execute_with_rem(circuit,noisy_executor,observable,inverse_confusion_matrix=inverse_confusion_matrix)\n",
    "\n",
    "error = abs((ideal_value - mitigated_result)/ideal_value)\n",
    "print(f\"Error with mitigation (REM): {error:.3}\")"
   ]
  },
  {
   "cell_type": "code",
   "execution_count": null,
   "metadata": {},
   "outputs": [],
   "source": []
  }
 ],
 "metadata": {
  "kernelspec": {
   "display_name": "quantum",
   "language": "python",
   "name": "python3"
  },
  "language_info": {
   "codemirror_mode": {
    "name": "ipython",
    "version": 3
   },
   "file_extension": ".py",
   "mimetype": "text/x-python",
   "name": "python",
   "nbconvert_exporter": "python",
   "pygments_lexer": "ipython3",
   "version": "3.12.3"
  }
 },
 "nbformat": 4,
 "nbformat_minor": 2
}
