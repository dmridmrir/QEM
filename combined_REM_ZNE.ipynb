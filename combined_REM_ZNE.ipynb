{
 "cells": [
  {
   "cell_type": "markdown",
   "metadata": {},
   "source": [
    "# setup"
   ]
  },
  {
   "cell_type": "code",
   "execution_count": 19,
   "metadata": {},
   "outputs": [],
   "source": [
    "import cirq\n",
    "import numpy as np\n",
    "from mitiq.benchmarks import generate_rb_circuits\n",
    "from mitiq import MeasurementResult, Observable, PauliString, raw"
   ]
  },
  {
   "cell_type": "markdown",
   "metadata": {},
   "source": [
    "# task"
   ]
  },
  {
   "cell_type": "code",
   "execution_count": 20,
   "metadata": {},
   "outputs": [],
   "source": [
    "circuit = generate_rb_circuits(2,10)[0]"
   ]
  },
  {
   "cell_type": "markdown",
   "metadata": {},
   "source": [
    "# noise model and executor"
   ]
  },
  {
   "cell_type": "code",
   "execution_count": 21,
   "metadata": {},
   "outputs": [],
   "source": [
    "# apply depolarizing error and bit-flip error\n",
    "\n",
    "def execute(circuit: cirq.Circuit, noise_level: float = 0.002, p0: float = 0.05) -> MeasurementResult:\n",
    "    measurements = circuit[-1]\n",
    "    circuit =  circuit[:-1]\n",
    "    circuit = circuit.with_noise(cirq.depolarize(noise_level))\n",
    "    circuit.append(cirq.bit_flip(p0).on_each(circuit.all_qubits()))\n",
    "    circuit.append(measurements)\n",
    "\n",
    "    simulator = cirq.DensityMatrixSimulator()\n",
    "\n",
    "    result = simulator.run(circuit, repetitions=10000)\n",
    "    bitstrings = np.column_stack(list(result.measurements.values()))\n",
    "    return MeasurementResult(bitstrings)"
   ]
  },
  {
   "cell_type": "markdown",
   "metadata": {},
   "source": [
    "# observable"
   ]
  },
  {
   "cell_type": "code",
   "execution_count": 26,
   "metadata": {},
   "outputs": [
    {
     "name": "stdout",
     "output_type": "stream",
     "text": [
      "ideal value: 2.00000\n",
      "Unmitigated value: 1.34660\n"
     ]
    }
   ],
   "source": [
    "from functools import partial\n",
    "\n",
    "obs = Observable(PauliString(\"ZI\"),PauliString(\"IZ\"))\n",
    "noisy = raw.execute(circuit,execute,obs)\n",
    "ideal = raw.execute(circuit,partial(execute,noise_level = 0, p0 = 0), obs)\n",
    "print(\"ideal value:\", \"{:.5f}\".format(ideal.real))\n",
    "print(\"Unmitigated value:\", \"{:.5f}\".format(noisy.real))"
   ]
  },
  {
   "cell_type": "code",
   "execution_count": 23,
   "metadata": {},
   "outputs": [
    {
     "name": "stdout",
     "output_type": "stream",
     "text": [
      "Mitigated value obtained with REM: 1.49400\n"
     ]
    }
   ],
   "source": [
    "from mitiq import rem\n",
    "\n",
    "p0 = p1 = 0.05\n",
    "icm = rem.generate_inverse_confusion_matrix(2,p0,p1)\n",
    "rem_executor = rem.mitigate_executor(execute,inverse_confusion_matrix=icm)\n",
    "\n",
    "rem_result = obs.expectation(circuit,rem_executor)\n",
    "print(\"Mitigated value obtained with REM:\", \"{:.5f}\".format(rem_result.real))"
   ]
  },
  {
   "cell_type": "code",
   "execution_count": 24,
   "metadata": {},
   "outputs": [
    {
     "name": "stdout",
     "output_type": "stream",
     "text": [
      "Mitigated value obtained with ZNE: 1.72220\n"
     ]
    }
   ],
   "source": [
    "from mitiq import zne\n",
    "\n",
    "# mitigate_executor : return modifieird version of input executor\n",
    "zne_executor = zne.mitigate_executor(execute,observable=obs,scale_noise=zne.scaling.fold_global)\n",
    "zne_result = zne_executor(circuit)\n",
    "print(\"Mitigated value obtained with ZNE:\", \"{:.5f}\".format(zne_result.real))"
   ]
  },
  {
   "cell_type": "code",
   "execution_count": 25,
   "metadata": {},
   "outputs": [
    {
     "name": "stdout",
     "output_type": "stream",
     "text": [
      "Mitigated value obtained with REM + ZNE: 2.06480\n"
     ]
    }
   ],
   "source": [
    "combined_exevutor = zne.mitigate_executor(rem_executor,observable=obs,scale_noise=zne.scaling.fold_global)\n",
    "combined_result = combined_exevutor(circuit)\n",
    "print(\"Mitigated value obtained with REM + ZNE:\", \"{:.5f}\".format(combined_result.real))"
   ]
  },
  {
   "cell_type": "code",
   "execution_count": null,
   "metadata": {},
   "outputs": [],
   "source": []
  }
 ],
 "metadata": {
  "kernelspec": {
   "display_name": "quantum",
   "language": "python",
   "name": "python3"
  },
  "language_info": {
   "codemirror_mode": {
    "name": "ipython",
    "version": 3
   },
   "file_extension": ".py",
   "mimetype": "text/x-python",
   "name": "python",
   "nbconvert_exporter": "python",
   "pygments_lexer": "ipython3",
   "version": "3.12.3"
  }
 },
 "nbformat": 4,
 "nbformat_minor": 2
}
