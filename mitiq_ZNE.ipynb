{
 "cells": [
  {
   "cell_type": "code",
   "execution_count": 1,
   "metadata": {},
   "outputs": [],
   "source": [
    "import cirq\n",
    "from mitiq import zne, benchmarks"
   ]
  },
  {
   "cell_type": "markdown",
   "metadata": {},
   "source": [
    "# problem setup"
   ]
  },
  {
   "cell_type": "code",
   "execution_count": 2,
   "metadata": {},
   "outputs": [
    {
     "name": "stdout",
     "output_type": "stream",
     "text": [
      "0: ───X^0.5───Y^0───Y───X^-0.5───X^0.5───Y^0───Y───X^-0.5───Y^-0.5───X^0.5───Y^-0.5───X^-0.5───Y^0───Y^0.5───X^0───Y───X^0.5───Y^-0.5───X^0───Y^-0.5───X^-0.5───Y^0.5───X───Y^-0.5───X───Y^-0.5───X^-0.5───Y^-0.5───X^-0.5───Y^-0.5───X^0───Y^0.5───X^0───X^0.5───Y^0.5───X───Y^0.5───Y^-0.5───X^0.5───Y^-0.5───X^0.5───Y^0.5───X^-0.5───Y^0.5───Y^0.5───X^0.5───Y^0.5───X^0───X^0───Y^0.5───X^0───Y^-0.5───X^-0.5───Y^0.5───X^0.5───Y^-0.5───X^-0.5───Y───X───Y───X^-0.5───Y───X^-0.5───X^0───X^-0.5───Y^-0.5───Y───X───Y^-0.5───X^0───Y───X───X^0.5───Y^0───Y^-0.5───X^0───Y^-0.5───X^-0.5───X^0.5───Y^-0.5───X^0───X^0.5───Y^-0.5───Y───X^0───X^0.5───Y^0.5───X^-0.5───Y^0───Y^-0.5───X^0.5───X^0.5───Y^0───X^0.5───Y^0.5───Y^0.5───X^-0.5───X───Y^0───X───Y^0───\n"
     ]
    }
   ],
   "source": [
    "# 1개의 qubit이 50개의 clifford군의 50개의 게이트를 통과하는 무작위 회로 생성 후 1번째 반환\n",
    "circuit = benchmarks.generate_rb_circuits(n_qubits=1,num_cliffords=50)[0]\n",
    "print(circuit)"
   ]
  },
  {
   "cell_type": "markdown",
   "metadata": {},
   "source": [
    "# make executer"
   ]
  },
  {
   "cell_type": "code",
   "execution_count": 3,
   "metadata": {},
   "outputs": [],
   "source": [
    "def excute(circuit, noise_level = 0.005):\n",
    "    noisy_circuit = circuit.with_noise(cirq.depolarize(p=noise_level))\n",
    "    return(\n",
    "        #A simulator for density matrices and noisy quantum circuits\n",
    "        cirq.DensityMatrixSimulator()\n",
    "        .simulate(noisy_circuit)\n",
    "        #Returns the density matrix resulting from simulating the circuit\n",
    "        .final_density_matrix[0,0]\n",
    "        .real\n",
    "    )"
   ]
  },
  {
   "cell_type": "markdown",
   "metadata": {},
   "source": [
    "# apply ZNE and compute"
   ]
  },
  {
   "cell_type": "code",
   "execution_count": 9,
   "metadata": {},
   "outputs": [
    {
     "name": "stdout",
     "output_type": "stream",
     "text": [
      "Error without  Mitiq: 0.246\n",
      "Error with zne:    0.057\n"
     ]
    }
   ],
   "source": [
    "true_value = excute(circuit,noise_level = 0.0)\n",
    "noisy_value = excute(circuit)\n",
    "zne_value = zne.execute_with_zne(circuit,excute)\n",
    "\n",
    "print(f\"Error without  Mitiq: {abs((true_value - noisy_value) / true_value):.3f}\")\n",
    "print(f\"Error with zne:    {abs((true_value - zne_value) / true_value):.3f}\")\n"
   ]
  },
  {
   "cell_type": "markdown",
   "metadata": {},
   "source": [
    "# select a noise scaling method"
   ]
  },
  {
   "cell_type": "code",
   "execution_count": 5,
   "metadata": {},
   "outputs": [
    {
     "name": "stdout",
     "output_type": "stream",
     "text": [
      "folded circuit : \n",
      "0: ───X^0.5───Y^0───Y───X^-0.5───X^0.5───X^-0.5───X^0.5───X^-0.5───X^0.5───Y^0───Y^0───Y^0───Y───X^-0.5───X^0.5───X^-0.5───Y^-0.5───Y^0.5───Y^-0.5───X^0.5───X^-0.5───X^0.5───Y^-0.5───X^-0.5───Y^0───Y^0───Y^0───Y^0.5───X^0───Y───Y───Y───X^0.5───Y^-0.5───X^0───Y^-0.5───X^-0.5───X^0.5───X^-0.5───Y^0.5───Y^-0.5───Y^0.5───X───Y^-0.5───Y^0.5───Y^-0.5───X───Y^-0.5───X^-0.5───Y^-0.5───Y^0.5───Y^-0.5───X^-0.5───X^0.5───X^-0.5───Y^-0.5───Y^0.5───Y^-0.5───X^0───X^0───X^0───Y^0.5───X^0───X^0.5───X^-0.5───X^0.5───Y^0.5───X───X───X───Y^0.5───Y^-0.5───Y^0.5───Y^-0.5───X^0.5───X^-0.5───X^0.5───Y^-0.5───Y^0.5───Y^-0.5───X^0.5───X^-0.5───X^0.5───Y^0.5───Y^-0.5───Y^0.5───X^-0.5───X^0.5───X^-0.5───Y^0.5───Y^-0.5───Y^0.5───Y^0.5───Y^-0.5───Y^0.5───X^0.5───X^-0.5───X^0.5───Y^0.5───X^0───X^0───Y^0.5───Y^-0.5───Y^0.5───X^0───Y^-0.5───X^-0.5───X^0.5───X^-0.5───Y^0.5───X^0.5───X^-0.5───X^0.5───Y^-0.5───X^-0.5───Y───Y───Y───X───X───X───Y───Y───Y───X^-0.5───X^0.5───X^-0.5───Y───X^-0.5───X^0.5───X^-0.5───X^0───X^0───X^0───X^-0.5───X^0.5───X^-0.5───Y^-0.5───Y───X───X───X───Y^-0.5───Y^0.5───Y^-0.5───X^0───Y───Y───Y───X───X^0.5───Y^0───Y^-0.5───Y^0.5───Y^-0.5───X^0───X^0───X^0───Y^-0.5───X^-0.5───X^0.5───X^-0.5───X^0.5───Y^-0.5───Y^0.5───Y^-0.5───X^0───X^0.5───X^-0.5───X^0.5───Y^-0.5───Y^0.5───Y^-0.5───Y───Y───Y───X^0───X^0.5───X^-0.5───X^0.5───Y^0.5───X^-0.5───X^0.5───X^-0.5───Y^0───Y^0───Y^0───Y^-0.5───X^0.5───X^0.5───X^-0.5───X^0.5───Y^0───X^0.5───Y^0.5───Y^-0.5───Y^0.5───Y^0.5───X^-0.5───X───Y^0───X───Y^0───\n"
     ]
    }
   ],
   "source": [
    "from mitiq.zne.scaling import fold_gates_at_random\n",
    "\n",
    "folded = fold_gates_at_random(circuit,scale_factor = 2)\n",
    "print(\"folded circuit : \", folded, sep='\\n')"
   ]
  },
  {
   "cell_type": "markdown",
   "metadata": {},
   "source": [
    "# select a noise extrapolation method"
   ]
  },
  {
   "cell_type": "code",
   "execution_count": 8,
   "metadata": {},
   "outputs": [
    {
     "name": "stdout",
     "output_type": "stream",
     "text": [
      "Error with mitigation (ZNE): 0.12\n"
     ]
    }
   ],
   "source": [
    "from mitiq.zne.inference import LinearFactory\n",
    "\n",
    "linear_fact = LinearFactory(scale_factors=[1.0,2.0])\n",
    "\n",
    "mitigated_result = zne.execute_with_zne(circuit,excute,factory=linear_fact,scale_noise=fold_gates_at_random)\n",
    "print(f\"Error with mitigation (ZNE): {abs(true_value - mitigated_result):.{3}}\")"
   ]
  }
 ],
 "metadata": {
  "kernelspec": {
   "display_name": "quantum",
   "language": "python",
   "name": "python3"
  },
  "language_info": {
   "codemirror_mode": {
    "name": "ipython",
    "version": 3
   },
   "file_extension": ".py",
   "mimetype": "text/x-python",
   "name": "python",
   "nbconvert_exporter": "python",
   "pygments_lexer": "ipython3",
   "version": "3.12.3"
  }
 },
 "nbformat": 4,
 "nbformat_minor": 2
}
